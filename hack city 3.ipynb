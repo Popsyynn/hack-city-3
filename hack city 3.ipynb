{
 "cells": [
  {
   "cell_type": "code",
   "execution_count": null,
   "id": "7ba3e167",
   "metadata": {},
   "outputs": [],
   "source": [
    "#1\n",
    "num = int(input('Enter an integer'))\n",
    "\n",
    "while num>0:\n",
    "    if num%2==0:\n",
    "        num = num/2\n",
    "        \n",
    "    else:\n",
    "        num = num -1\n",
    "        \n",
    "    print(num)"
   ]
  },
  {
   "cell_type": "code",
   "execution_count": null,
   "id": "1ae985ba",
   "metadata": {},
   "outputs": [],
   "source": []
  }
 ],
 "metadata": {
  "kernelspec": {
   "display_name": "Python 3",
   "language": "python",
   "name": "python3"
  }
 },
 "nbformat": 4,
 "nbformat_minor": 5
}
